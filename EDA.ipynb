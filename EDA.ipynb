{
 "cells": [
  {
   "cell_type": "markdown",
   "id": "e1a834a4-2ba6-4826-9b3b-05e9660227ab",
   "metadata": {},
   "source": [
    "# **Exploratory data analysis (EDA) with Pandas**\n"
   ]
  },
  {
   "cell_type": "markdown",
   "id": "9ea62cd6-d2c2-446d-97a1-9350cde15898",
   "metadata": {},
   "source": [
    "Import the libraries necessary for this lab. We can add some aliases to make the libraries easier to use in our code and set a default figure size for further plots. Ignore the warnings.\n"
   ]
  },
  {
   "cell_type": "code",
   "execution_count": 1,
   "id": "eb9d8e00-846f-4dc9-b166-28eaf7d516d9",
   "metadata": {},
   "outputs": [],
   "source": [
    "import pandas as pd\n",
    "import matplotlib.pyplot as plt\n",
    "import numpy as np\n",
    "\n",
    "%matplotlib inline\n",
    "plt.rcParams[\"figure.figsize\"] = (8, 6)\n",
    "\n",
    "import warnings\n",
    "warnings.filterwarnings('ignore')"
   ]
  },
  {
   "cell_type": "markdown",
   "id": "b97b8a18-dd98-4e88-8b92-f0355ed3893e",
   "metadata": {},
   "source": [
    "Further specify the value of the `precision` parameter equal to 2 to display two decimal signs (instead of 6 as default).\n"
   ]
  },
  {
   "cell_type": "code",
   "execution_count": 2,
   "id": "85cb4a45-9f8c-4ae6-bfc1-b0185cbb2321",
   "metadata": {},
   "outputs": [],
   "source": [
    "pd.set_option(\"precision\", 2)\n",
    "pd.options.display.float_format = '{:.2f}'.format"
   ]
  },
  {
   "cell_type": "markdown",
   "id": "bbbfe659-9a64-4cc4-8e1c-ba04b49f8c49",
   "metadata": {},
   "source": [
    "Let's read the data and look at the first 5 rows using the `head` method. The number of the output rows from the dataset is determined by the `head` method parameter.\n"
   ]
  },
  {
   "cell_type": "code",
   "execution_count": 3,
   "id": "a879fa93-867b-4207-a87b-67de2a9e561c",
   "metadata": {},
   "outputs": [
    {
     "data": {
      "text/html": [
       "<div>\n",
       "<style scoped>\n",
       "    .dataframe tbody tr th:only-of-type {\n",
       "        vertical-align: middle;\n",
       "    }\n",
       "\n",
       "    .dataframe tbody tr th {\n",
       "        vertical-align: top;\n",
       "    }\n",
       "\n",
       "    .dataframe thead th {\n",
       "        text-align: right;\n",
       "    }\n",
       "</style>\n",
       "<table border=\"1\" class=\"dataframe\">\n",
       "  <thead>\n",
       "    <tr style=\"text-align: right;\">\n",
       "      <th></th>\n",
       "      <th>ID</th>\n",
       "      <th>class</th>\n",
       "      <th>gender</th>\n",
       "      <th>race</th>\n",
       "      <th>GPA</th>\n",
       "      <th>Algebra</th>\n",
       "      <th>Calculus1</th>\n",
       "      <th>Calculus2</th>\n",
       "      <th>Statistics</th>\n",
       "      <th>Probability</th>\n",
       "      <th>Measure</th>\n",
       "      <th>Functional_analysis</th>\n",
       "      <th>from1</th>\n",
       "      <th>from2</th>\n",
       "      <th>from3</th>\n",
       "      <th>from4</th>\n",
       "      <th>y</th>\n",
       "    </tr>\n",
       "  </thead>\n",
       "  <tbody>\n",
       "    <tr>\n",
       "      <th>0</th>\n",
       "      <td>1141</td>\n",
       "      <td>A</td>\n",
       "      <td>male</td>\n",
       "      <td>1</td>\n",
       "      <td>73.47</td>\n",
       "      <td>64</td>\n",
       "      <td>81</td>\n",
       "      <td>87</td>\n",
       "      <td>60</td>\n",
       "      <td>74</td>\n",
       "      <td>71</td>\n",
       "      <td>60</td>\n",
       "      <td>A</td>\n",
       "      <td>A</td>\n",
       "      <td>A</td>\n",
       "      <td>3</td>\n",
       "      <td>0</td>\n",
       "    </tr>\n",
       "    <tr>\n",
       "      <th>1</th>\n",
       "      <td>1142</td>\n",
       "      <td>A</td>\n",
       "      <td>female</td>\n",
       "      <td>1</td>\n",
       "      <td>71.22</td>\n",
       "      <td>57</td>\n",
       "      <td>50</td>\n",
       "      <td>51</td>\n",
       "      <td>51</td>\n",
       "      <td>55</td>\n",
       "      <td>62</td>\n",
       "      <td>61</td>\n",
       "      <td>B</td>\n",
       "      <td>A</td>\n",
       "      <td>A</td>\n",
       "      <td>2</td>\n",
       "      <td>0</td>\n",
       "    </tr>\n",
       "    <tr>\n",
       "      <th>2</th>\n",
       "      <td>1143</td>\n",
       "      <td>A</td>\n",
       "      <td>female</td>\n",
       "      <td>2</td>\n",
       "      <td>74.56</td>\n",
       "      <td>47</td>\n",
       "      <td>48</td>\n",
       "      <td>71</td>\n",
       "      <td>60</td>\n",
       "      <td>61</td>\n",
       "      <td>68</td>\n",
       "      <td>64</td>\n",
       "      <td>C</td>\n",
       "      <td>A</td>\n",
       "      <td>A</td>\n",
       "      <td>0</td>\n",
       "      <td>1</td>\n",
       "    </tr>\n",
       "    <tr>\n",
       "      <th>3</th>\n",
       "      <td>1144</td>\n",
       "      <td>A</td>\n",
       "      <td>female</td>\n",
       "      <td>1</td>\n",
       "      <td>72.89</td>\n",
       "      <td>46</td>\n",
       "      <td>72</td>\n",
       "      <td>38</td>\n",
       "      <td>60</td>\n",
       "      <td>29</td>\n",
       "      <td>54</td>\n",
       "      <td>51</td>\n",
       "      <td>D</td>\n",
       "      <td>A</td>\n",
       "      <td>A</td>\n",
       "      <td>0</td>\n",
       "      <td>0</td>\n",
       "    </tr>\n",
       "    <tr>\n",
       "      <th>4</th>\n",
       "      <td>1145</td>\n",
       "      <td>A</td>\n",
       "      <td>female</td>\n",
       "      <td>1</td>\n",
       "      <td>70.11</td>\n",
       "      <td>49</td>\n",
       "      <td>45</td>\n",
       "      <td>63</td>\n",
       "      <td>60</td>\n",
       "      <td>66</td>\n",
       "      <td>66</td>\n",
       "      <td>61</td>\n",
       "      <td>E</td>\n",
       "      <td>A</td>\n",
       "      <td>A</td>\n",
       "      <td>0</td>\n",
       "      <td>0</td>\n",
       "    </tr>\n",
       "  </tbody>\n",
       "</table>\n",
       "</div>"
      ],
      "text/plain": [
       "     ID class  gender  race   GPA  Algebra  Calculus1  Calculus2  Statistics  \\\n",
       "0  1141     A    male     1 73.47       64         81         87          60   \n",
       "1  1142     A  female     1 71.22       57         50         51          51   \n",
       "2  1143     A  female     2 74.56       47         48         71          60   \n",
       "3  1144     A  female     1 72.89       46         72         38          60   \n",
       "4  1145     A  female     1 70.11       49         45         63          60   \n",
       "\n",
       "   Probability  Measure  Functional_analysis from1 from2 from3  from4  y  \n",
       "0           74       71                   60     A     A     A      3  0  \n",
       "1           55       62                   61     B     A     A      2  0  \n",
       "2           61       68                   64     C     A     A      0  1  \n",
       "3           29       54                   51     D     A     A      0  0  \n",
       "4           66       66                   61     E     A     A      0  0  "
      ]
     },
     "execution_count": 3,
     "metadata": {},
     "output_type": "execute_result"
    }
   ],
   "source": [
    "df = pd.read_csv('Students data.csv', sep = ',')\n",
    "df.head(5)"
   ]
  },
  {
   "cell_type": "markdown",
   "id": "14d4cd54-b9a5-4b2e-9e1e-0b315441fc78",
   "metadata": {},
   "source": [
    "### Let's look at the dataset size, feature names and their types\n"
   ]
  },
  {
   "cell_type": "code",
   "execution_count": 4,
   "id": "6d9741c6-6399-45eb-be23-e23a9376c091",
   "metadata": {},
   "outputs": [
    {
     "data": {
      "text/plain": [
       "(105, 17)"
      ]
     },
     "execution_count": 4,
     "metadata": {},
     "output_type": "execute_result"
    }
   ],
   "source": [
    "df.shape"
   ]
  },
  {
   "cell_type": "markdown",
   "id": "5293247f-d8f4-4c45-8494-365d3cc0b628",
   "metadata": {},
   "source": [
    "The dataset contains 105 objects (rows), for each of which 17 features are set (columns), including 1 target feature (`y`).\n"
   ]
  },
  {
   "cell_type": "markdown",
   "id": "9e4604de-61f2-4e24-928e-7a72e217540d",
   "metadata": {},
   "source": [
    " Output the column (feature) names:\n"
   ]
  },
  {
   "cell_type": "code",
   "execution_count": 5,
   "id": "97afff69-acdb-4417-8db4-a4be21bc2a14",
   "metadata": {},
   "outputs": [
    {
     "data": {
      "text/plain": [
       "Index(['ID', 'class', 'gender', 'race', 'GPA', 'Algebra', 'Calculus1',\n",
       "       'Calculus2', 'Statistics', 'Probability', 'Measure',\n",
       "       'Functional_analysis', 'from1', 'from2', 'from3', 'from4', 'y'],\n",
       "      dtype='object')"
      ]
     },
     "execution_count": 5,
     "metadata": {},
     "output_type": "execute_result"
    }
   ],
   "source": [
    "df.columns"
   ]
  },
  {
   "cell_type": "markdown",
   "id": "be38bf1f-eb5d-407c-88cf-d92b711c1783",
   "metadata": {},
   "source": [
    "To see the general information on all the DataFrame features (columns), we use the info method:"
   ]
  },
  {
   "cell_type": "code",
   "execution_count": 6,
   "id": "3fc6c42d-806b-4ef9-a50c-915cd164aee1",
   "metadata": {},
   "outputs": [
    {
     "name": "stdout",
     "output_type": "stream",
     "text": [
      "<class 'pandas.core.frame.DataFrame'>\n",
      "RangeIndex: 105 entries, 0 to 104\n",
      "Data columns (total 17 columns):\n",
      " #   Column               Non-Null Count  Dtype  \n",
      "---  ------               --------------  -----  \n",
      " 0   ID                   105 non-null    int64  \n",
      " 1   class                105 non-null    object \n",
      " 2   gender               105 non-null    object \n",
      " 3   race                 105 non-null    int64  \n",
      " 4   GPA                  105 non-null    float64\n",
      " 5   Algebra              105 non-null    int64  \n",
      " 6   Calculus1            105 non-null    int64  \n",
      " 7   Calculus2            105 non-null    int64  \n",
      " 8   Statistics           105 non-null    int64  \n",
      " 9   Probability          105 non-null    int64  \n",
      " 10  Measure              105 non-null    int64  \n",
      " 11  Functional_analysis  105 non-null    int64  \n",
      " 12  from1                105 non-null    object \n",
      " 13  from2                105 non-null    object \n",
      " 14  from3                105 non-null    object \n",
      " 15  from4                105 non-null    int64  \n",
      " 16  y                    105 non-null    int64  \n",
      "dtypes: float64(1), int64(11), object(5)\n",
      "memory usage: 14.1+ KB\n",
      "None\n"
     ]
    }
   ],
   "source": [
    "print(df.info())"
   ]
  },
  {
   "cell_type": "code",
   "execution_count": 7,
   "id": "c67ea245-dbf7-49a0-8c40-7b89d5c9030c",
   "metadata": {},
   "outputs": [
    {
     "data": {
      "text/html": [
       "<div>\n",
       "<style scoped>\n",
       "    .dataframe tbody tr th:only-of-type {\n",
       "        vertical-align: middle;\n",
       "    }\n",
       "\n",
       "    .dataframe tbody tr th {\n",
       "        vertical-align: top;\n",
       "    }\n",
       "\n",
       "    .dataframe thead th {\n",
       "        text-align: right;\n",
       "    }\n",
       "</style>\n",
       "<table border=\"1\" class=\"dataframe\">\n",
       "  <thead>\n",
       "    <tr style=\"text-align: right;\">\n",
       "      <th></th>\n",
       "      <th>ID</th>\n",
       "      <th>race</th>\n",
       "      <th>GPA</th>\n",
       "      <th>Algebra</th>\n",
       "      <th>Calculus1</th>\n",
       "      <th>Calculus2</th>\n",
       "      <th>Statistics</th>\n",
       "      <th>Probability</th>\n",
       "      <th>Measure</th>\n",
       "      <th>Functional_analysis</th>\n",
       "      <th>from4</th>\n",
       "      <th>y</th>\n",
       "    </tr>\n",
       "  </thead>\n",
       "  <tbody>\n",
       "    <tr>\n",
       "      <th>count</th>\n",
       "      <td>105.00</td>\n",
       "      <td>105.00</td>\n",
       "      <td>105.00</td>\n",
       "      <td>105.00</td>\n",
       "      <td>105.00</td>\n",
       "      <td>105.00</td>\n",
       "      <td>105.00</td>\n",
       "      <td>105.00</td>\n",
       "      <td>105.00</td>\n",
       "      <td>105.00</td>\n",
       "      <td>105.00</td>\n",
       "      <td>105.00</td>\n",
       "    </tr>\n",
       "    <tr>\n",
       "      <th>mean</th>\n",
       "      <td>1193.00</td>\n",
       "      <td>1.79</td>\n",
       "      <td>82.96</td>\n",
       "      <td>76.06</td>\n",
       "      <td>71.96</td>\n",
       "      <td>78.94</td>\n",
       "      <td>85.13</td>\n",
       "      <td>83.88</td>\n",
       "      <td>80.76</td>\n",
       "      <td>75.32</td>\n",
       "      <td>0.50</td>\n",
       "      <td>0.71</td>\n",
       "    </tr>\n",
       "    <tr>\n",
       "      <th>std</th>\n",
       "      <td>30.45</td>\n",
       "      <td>1.67</td>\n",
       "      <td>6.05</td>\n",
       "      <td>11.72</td>\n",
       "      <td>12.20</td>\n",
       "      <td>15.00</td>\n",
       "      <td>10.27</td>\n",
       "      <td>10.51</td>\n",
       "      <td>10.30</td>\n",
       "      <td>13.00</td>\n",
       "      <td>0.89</td>\n",
       "      <td>0.83</td>\n",
       "    </tr>\n",
       "    <tr>\n",
       "      <th>min</th>\n",
       "      <td>1141.00</td>\n",
       "      <td>1.00</td>\n",
       "      <td>63.49</td>\n",
       "      <td>46.00</td>\n",
       "      <td>38.00</td>\n",
       "      <td>17.00</td>\n",
       "      <td>51.00</td>\n",
       "      <td>29.00</td>\n",
       "      <td>54.00</td>\n",
       "      <td>9.00</td>\n",
       "      <td>0.00</td>\n",
       "      <td>0.00</td>\n",
       "    </tr>\n",
       "    <tr>\n",
       "      <th>25%</th>\n",
       "      <td>1167.00</td>\n",
       "      <td>1.00</td>\n",
       "      <td>79.34</td>\n",
       "      <td>67.00</td>\n",
       "      <td>64.00</td>\n",
       "      <td>71.00</td>\n",
       "      <td>80.00</td>\n",
       "      <td>79.00</td>\n",
       "      <td>74.00</td>\n",
       "      <td>67.00</td>\n",
       "      <td>0.00</td>\n",
       "      <td>0.00</td>\n",
       "    </tr>\n",
       "    <tr>\n",
       "      <th>50%</th>\n",
       "      <td>1193.00</td>\n",
       "      <td>1.00</td>\n",
       "      <td>84.11</td>\n",
       "      <td>76.00</td>\n",
       "      <td>73.00</td>\n",
       "      <td>83.00</td>\n",
       "      <td>87.00</td>\n",
       "      <td>85.00</td>\n",
       "      <td>81.00</td>\n",
       "      <td>76.00</td>\n",
       "      <td>0.00</td>\n",
       "      <td>0.00</td>\n",
       "    </tr>\n",
       "    <tr>\n",
       "      <th>75%</th>\n",
       "      <td>1219.00</td>\n",
       "      <td>1.00</td>\n",
       "      <td>87.30</td>\n",
       "      <td>84.00</td>\n",
       "      <td>80.00</td>\n",
       "      <td>91.00</td>\n",
       "      <td>92.00</td>\n",
       "      <td>92.00</td>\n",
       "      <td>89.00</td>\n",
       "      <td>85.00</td>\n",
       "      <td>0.00</td>\n",
       "      <td>1.00</td>\n",
       "    </tr>\n",
       "    <tr>\n",
       "      <th>max</th>\n",
       "      <td>1245.00</td>\n",
       "      <td>7.00</td>\n",
       "      <td>93.71</td>\n",
       "      <td>98.00</td>\n",
       "      <td>100.00</td>\n",
       "      <td>99.00</td>\n",
       "      <td>100.00</td>\n",
       "      <td>97.00</td>\n",
       "      <td>100.00</td>\n",
       "      <td>100.00</td>\n",
       "      <td>3.00</td>\n",
       "      <td>2.00</td>\n",
       "    </tr>\n",
       "  </tbody>\n",
       "</table>\n",
       "</div>"
      ],
      "text/plain": [
       "           ID   race    GPA  Algebra  Calculus1  Calculus2  Statistics  \\\n",
       "count  105.00 105.00 105.00   105.00     105.00     105.00      105.00   \n",
       "mean  1193.00   1.79  82.96    76.06      71.96      78.94       85.13   \n",
       "std     30.45   1.67   6.05    11.72      12.20      15.00       10.27   \n",
       "min   1141.00   1.00  63.49    46.00      38.00      17.00       51.00   \n",
       "25%   1167.00   1.00  79.34    67.00      64.00      71.00       80.00   \n",
       "50%   1193.00   1.00  84.11    76.00      73.00      83.00       87.00   \n",
       "75%   1219.00   1.00  87.30    84.00      80.00      91.00       92.00   \n",
       "max   1245.00   7.00  93.71    98.00     100.00      99.00      100.00   \n",
       "\n",
       "       Probability  Measure  Functional_analysis  from4      y  \n",
       "count       105.00   105.00               105.00 105.00 105.00  \n",
       "mean         83.88    80.76                75.32   0.50   0.71  \n",
       "std          10.51    10.30                13.00   0.89   0.83  \n",
       "min          29.00    54.00                 9.00   0.00   0.00  \n",
       "25%          79.00    74.00                67.00   0.00   0.00  \n",
       "50%          85.00    81.00                76.00   0.00   0.00  \n",
       "75%          92.00    89.00                85.00   0.00   1.00  \n",
       "max          97.00   100.00               100.00   3.00   2.00  "
      ]
     },
     "execution_count": 7,
     "metadata": {},
     "output_type": "execute_result"
    }
   ],
   "source": [
    "df.describe()"
   ]
  },
  {
   "cell_type": "markdown",
   "id": "75c8ca77-bd02-4d08-ab74-bce0dc2215ae",
   "metadata": {},
   "source": [
    "To see the statistics on non-numeric features, you need to explicitly specify the feature types by the include parameter. You can also set include = all to output statistics on all the existing features."
   ]
  },
  {
   "cell_type": "code",
   "execution_count": 8,
   "id": "509cb43e-3b80-4562-9a97-626701213c83",
   "metadata": {},
   "outputs": [
    {
     "data": {
      "text/html": [
       "<div>\n",
       "<style scoped>\n",
       "    .dataframe tbody tr th:only-of-type {\n",
       "        vertical-align: middle;\n",
       "    }\n",
       "\n",
       "    .dataframe tbody tr th {\n",
       "        vertical-align: top;\n",
       "    }\n",
       "\n",
       "    .dataframe thead th {\n",
       "        text-align: right;\n",
       "    }\n",
       "</style>\n",
       "<table border=\"1\" class=\"dataframe\">\n",
       "  <thead>\n",
       "    <tr style=\"text-align: right;\">\n",
       "      <th></th>\n",
       "      <th>class</th>\n",
       "      <th>gender</th>\n",
       "      <th>from1</th>\n",
       "      <th>from2</th>\n",
       "      <th>from3</th>\n",
       "    </tr>\n",
       "  </thead>\n",
       "  <tbody>\n",
       "    <tr>\n",
       "      <th>count</th>\n",
       "      <td>105</td>\n",
       "      <td>105</td>\n",
       "      <td>105</td>\n",
       "      <td>105</td>\n",
       "      <td>105</td>\n",
       "    </tr>\n",
       "    <tr>\n",
       "      <th>unique</th>\n",
       "      <td>2</td>\n",
       "      <td>2</td>\n",
       "      <td>28</td>\n",
       "      <td>2</td>\n",
       "      <td>5</td>\n",
       "    </tr>\n",
       "    <tr>\n",
       "      <th>top</th>\n",
       "      <td>A</td>\n",
       "      <td>female</td>\n",
       "      <td>B</td>\n",
       "      <td>B</td>\n",
       "      <td>A</td>\n",
       "    </tr>\n",
       "    <tr>\n",
       "      <th>freq</th>\n",
       "      <td>76</td>\n",
       "      <td>68</td>\n",
       "      <td>9</td>\n",
       "      <td>73</td>\n",
       "      <td>81</td>\n",
       "    </tr>\n",
       "  </tbody>\n",
       "</table>\n",
       "</div>"
      ],
      "text/plain": [
       "       class  gender from1 from2 from3\n",
       "count    105     105   105   105   105\n",
       "unique     2       2    28     2     5\n",
       "top        A  female     B     B     A\n",
       "freq      76      68     9    73    81"
      ]
     },
     "execution_count": 8,
     "metadata": {},
     "output_type": "execute_result"
    }
   ],
   "source": [
    "df.describe(include = [\"object\"])"
   ]
  },
  {
   "cell_type": "markdown",
   "id": "8f2260bc-0fe8-4be4-baf5-f4a66484af46",
   "metadata": {},
   "source": [
    "For categorical (type object) and boolean (type bool) features you can use the value_counts method. Let's look at the target feature (gender) distribution:"
   ]
  },
  {
   "cell_type": "code",
   "execution_count": 9,
   "id": "405cc2ac-322d-4d42-9753-24265675e282",
   "metadata": {},
   "outputs": [
    {
     "data": {
      "text/plain": [
       "female    68\n",
       "male      37\n",
       "Name: gender, dtype: int64"
      ]
     },
     "execution_count": 9,
     "metadata": {},
     "output_type": "execute_result"
    }
   ],
   "source": [
    "df[\"gender\"].value_counts()"
   ]
  },
  {
   "cell_type": "markdown",
   "id": "8fe48e5d-2531-49d6-b042-03d7571ed26b",
   "metadata": {},
   "source": [
    "Let's look at the gender distribution. Specify the value of the normalize = True parameter to view relative frequencies, but not absolute."
   ]
  },
  {
   "cell_type": "code",
   "execution_count": 10,
   "id": "350b1f98-c7be-46bc-996c-2b8334fdfce4",
   "metadata": {},
   "outputs": [
    {
     "data": {
      "text/plain": [
       "female   0.65\n",
       "male     0.35\n",
       "Name: gender, dtype: float64"
      ]
     },
     "execution_count": 10,
     "metadata": {},
     "output_type": "execute_result"
    }
   ],
   "source": [
    "df[\"gender\"].value_counts(normalize = True)"
   ]
  },
  {
   "cell_type": "markdown",
   "id": "c393eb25-b175-49eb-9941-102b252512f2",
   "metadata": {},
   "source": [
    "### Sorting\n"
   ]
  },
  {
   "cell_type": "markdown",
   "id": "c807ca78-b0bd-45d3-b978-5428866805f6",
   "metadata": {},
   "source": [
    "A DataFrame can be sorted by a few feature values. In our case, for example, by GPA (ascending = False for sorting in descending order):"
   ]
  },
  {
   "cell_type": "code",
   "execution_count": 11,
   "id": "d1d5c774-32a8-427e-a368-c39eb8028529",
   "metadata": {},
   "outputs": [
    {
     "data": {
      "text/html": [
       "<div>\n",
       "<style scoped>\n",
       "    .dataframe tbody tr th:only-of-type {\n",
       "        vertical-align: middle;\n",
       "    }\n",
       "\n",
       "    .dataframe tbody tr th {\n",
       "        vertical-align: top;\n",
       "    }\n",
       "\n",
       "    .dataframe thead th {\n",
       "        text-align: right;\n",
       "    }\n",
       "</style>\n",
       "<table border=\"1\" class=\"dataframe\">\n",
       "  <thead>\n",
       "    <tr style=\"text-align: right;\">\n",
       "      <th></th>\n",
       "      <th>ID</th>\n",
       "      <th>class</th>\n",
       "      <th>gender</th>\n",
       "      <th>race</th>\n",
       "      <th>GPA</th>\n",
       "      <th>Algebra</th>\n",
       "      <th>Calculus1</th>\n",
       "      <th>Calculus2</th>\n",
       "      <th>Statistics</th>\n",
       "      <th>Probability</th>\n",
       "      <th>Measure</th>\n",
       "      <th>Functional_analysis</th>\n",
       "      <th>from1</th>\n",
       "      <th>from2</th>\n",
       "      <th>from3</th>\n",
       "      <th>from4</th>\n",
       "      <th>y</th>\n",
       "    </tr>\n",
       "  </thead>\n",
       "  <tbody>\n",
       "    <tr>\n",
       "      <th>104</th>\n",
       "      <td>1245</td>\n",
       "      <td>A</td>\n",
       "      <td>male</td>\n",
       "      <td>1</td>\n",
       "      <td>93.71</td>\n",
       "      <td>93</td>\n",
       "      <td>97</td>\n",
       "      <td>99</td>\n",
       "      <td>100</td>\n",
       "      <td>97</td>\n",
       "      <td>90</td>\n",
       "      <td>90</td>\n",
       "      <td>K</td>\n",
       "      <td>B</td>\n",
       "      <td>A</td>\n",
       "      <td>0</td>\n",
       "      <td>2</td>\n",
       "    </tr>\n",
       "    <tr>\n",
       "      <th>68</th>\n",
       "      <td>1209</td>\n",
       "      <td>A</td>\n",
       "      <td>female</td>\n",
       "      <td>1</td>\n",
       "      <td>93.06</td>\n",
       "      <td>82</td>\n",
       "      <td>90</td>\n",
       "      <td>93</td>\n",
       "      <td>91</td>\n",
       "      <td>93</td>\n",
       "      <td>99</td>\n",
       "      <td>94</td>\n",
       "      <td>M</td>\n",
       "      <td>B</td>\n",
       "      <td>S</td>\n",
       "      <td>0</td>\n",
       "      <td>0</td>\n",
       "    </tr>\n",
       "    <tr>\n",
       "      <th>75</th>\n",
       "      <td>1216</td>\n",
       "      <td>A</td>\n",
       "      <td>female</td>\n",
       "      <td>1</td>\n",
       "      <td>91.90</td>\n",
       "      <td>95</td>\n",
       "      <td>86</td>\n",
       "      <td>96</td>\n",
       "      <td>92</td>\n",
       "      <td>95</td>\n",
       "      <td>90</td>\n",
       "      <td>95</td>\n",
       "      <td>Z</td>\n",
       "      <td>B</td>\n",
       "      <td>A</td>\n",
       "      <td>2</td>\n",
       "      <td>1</td>\n",
       "    </tr>\n",
       "    <tr>\n",
       "      <th>96</th>\n",
       "      <td>1237</td>\n",
       "      <td>A</td>\n",
       "      <td>male</td>\n",
       "      <td>2</td>\n",
       "      <td>91.74</td>\n",
       "      <td>94</td>\n",
       "      <td>100</td>\n",
       "      <td>96</td>\n",
       "      <td>97</td>\n",
       "      <td>95</td>\n",
       "      <td>94</td>\n",
       "      <td>93</td>\n",
       "      <td>C</td>\n",
       "      <td>B</td>\n",
       "      <td>S</td>\n",
       "      <td>0</td>\n",
       "      <td>2</td>\n",
       "    </tr>\n",
       "    <tr>\n",
       "      <th>93</th>\n",
       "      <td>1234</td>\n",
       "      <td>A</td>\n",
       "      <td>female</td>\n",
       "      <td>1</td>\n",
       "      <td>91.61</td>\n",
       "      <td>93</td>\n",
       "      <td>82</td>\n",
       "      <td>95</td>\n",
       "      <td>95</td>\n",
       "      <td>94</td>\n",
       "      <td>100</td>\n",
       "      <td>93</td>\n",
       "      <td>Y</td>\n",
       "      <td>B</td>\n",
       "      <td>S</td>\n",
       "      <td>0</td>\n",
       "      <td>1</td>\n",
       "    </tr>\n",
       "  </tbody>\n",
       "</table>\n",
       "</div>"
      ],
      "text/plain": [
       "       ID class  gender  race   GPA  Algebra  Calculus1  Calculus2  \\\n",
       "104  1245     A    male     1 93.71       93         97         99   \n",
       "68   1209     A  female     1 93.06       82         90         93   \n",
       "75   1216     A  female     1 91.90       95         86         96   \n",
       "96   1237     A    male     2 91.74       94        100         96   \n",
       "93   1234     A  female     1 91.61       93         82         95   \n",
       "\n",
       "     Statistics  Probability  Measure  Functional_analysis from1 from2 from3  \\\n",
       "104         100           97       90                   90     K     B     A   \n",
       "68           91           93       99                   94     M     B     S   \n",
       "75           92           95       90                   95     Z     B     A   \n",
       "96           97           95       94                   93     C     B     S   \n",
       "93           95           94      100                   93     Y     B     S   \n",
       "\n",
       "     from4  y  \n",
       "104      0  2  \n",
       "68       0  0  \n",
       "75       2  1  \n",
       "96       0  2  \n",
       "93       0  1  "
      ]
     },
     "execution_count": 11,
     "metadata": {},
     "output_type": "execute_result"
    }
   ],
   "source": [
    "df.sort_values(by = \"GPA\", ascending = False).head()"
   ]
  },
  {
   "cell_type": "markdown",
   "id": "49173024-15c9-449e-a0ec-047b786944e5",
   "metadata": {},
   "source": [
    "Sort by the column group:\n"
   ]
  },
  {
   "cell_type": "code",
   "execution_count": 12,
   "id": "d894125a-43f8-44ed-807d-1117986a18a3",
   "metadata": {},
   "outputs": [
    {
     "data": {
      "text/html": [
       "<div>\n",
       "<style scoped>\n",
       "    .dataframe tbody tr th:only-of-type {\n",
       "        vertical-align: middle;\n",
       "    }\n",
       "\n",
       "    .dataframe tbody tr th {\n",
       "        vertical-align: top;\n",
       "    }\n",
       "\n",
       "    .dataframe thead th {\n",
       "        text-align: right;\n",
       "    }\n",
       "</style>\n",
       "<table border=\"1\" class=\"dataframe\">\n",
       "  <thead>\n",
       "    <tr style=\"text-align: right;\">\n",
       "      <th></th>\n",
       "      <th>ID</th>\n",
       "      <th>class</th>\n",
       "      <th>gender</th>\n",
       "      <th>race</th>\n",
       "      <th>GPA</th>\n",
       "      <th>Algebra</th>\n",
       "      <th>Calculus1</th>\n",
       "      <th>Calculus2</th>\n",
       "      <th>Statistics</th>\n",
       "      <th>Probability</th>\n",
       "      <th>Measure</th>\n",
       "      <th>Functional_analysis</th>\n",
       "      <th>from1</th>\n",
       "      <th>from2</th>\n",
       "      <th>from3</th>\n",
       "      <th>from4</th>\n",
       "      <th>y</th>\n",
       "    </tr>\n",
       "  </thead>\n",
       "  <tbody>\n",
       "    <tr>\n",
       "      <th>104</th>\n",
       "      <td>1245</td>\n",
       "      <td>A</td>\n",
       "      <td>male</td>\n",
       "      <td>1</td>\n",
       "      <td>93.71</td>\n",
       "      <td>93</td>\n",
       "      <td>97</td>\n",
       "      <td>99</td>\n",
       "      <td>100</td>\n",
       "      <td>97</td>\n",
       "      <td>90</td>\n",
       "      <td>90</td>\n",
       "      <td>K</td>\n",
       "      <td>B</td>\n",
       "      <td>A</td>\n",
       "      <td>0</td>\n",
       "      <td>2</td>\n",
       "    </tr>\n",
       "    <tr>\n",
       "      <th>68</th>\n",
       "      <td>1209</td>\n",
       "      <td>A</td>\n",
       "      <td>female</td>\n",
       "      <td>1</td>\n",
       "      <td>93.06</td>\n",
       "      <td>82</td>\n",
       "      <td>90</td>\n",
       "      <td>93</td>\n",
       "      <td>91</td>\n",
       "      <td>93</td>\n",
       "      <td>99</td>\n",
       "      <td>94</td>\n",
       "      <td>M</td>\n",
       "      <td>B</td>\n",
       "      <td>S</td>\n",
       "      <td>0</td>\n",
       "      <td>0</td>\n",
       "    </tr>\n",
       "    <tr>\n",
       "      <th>75</th>\n",
       "      <td>1216</td>\n",
       "      <td>A</td>\n",
       "      <td>female</td>\n",
       "      <td>1</td>\n",
       "      <td>91.90</td>\n",
       "      <td>95</td>\n",
       "      <td>86</td>\n",
       "      <td>96</td>\n",
       "      <td>92</td>\n",
       "      <td>95</td>\n",
       "      <td>90</td>\n",
       "      <td>95</td>\n",
       "      <td>Z</td>\n",
       "      <td>B</td>\n",
       "      <td>A</td>\n",
       "      <td>2</td>\n",
       "      <td>1</td>\n",
       "    </tr>\n",
       "    <tr>\n",
       "      <th>96</th>\n",
       "      <td>1237</td>\n",
       "      <td>A</td>\n",
       "      <td>male</td>\n",
       "      <td>2</td>\n",
       "      <td>91.74</td>\n",
       "      <td>94</td>\n",
       "      <td>100</td>\n",
       "      <td>96</td>\n",
       "      <td>97</td>\n",
       "      <td>95</td>\n",
       "      <td>94</td>\n",
       "      <td>93</td>\n",
       "      <td>C</td>\n",
       "      <td>B</td>\n",
       "      <td>S</td>\n",
       "      <td>0</td>\n",
       "      <td>2</td>\n",
       "    </tr>\n",
       "    <tr>\n",
       "      <th>93</th>\n",
       "      <td>1234</td>\n",
       "      <td>A</td>\n",
       "      <td>female</td>\n",
       "      <td>1</td>\n",
       "      <td>91.61</td>\n",
       "      <td>93</td>\n",
       "      <td>82</td>\n",
       "      <td>95</td>\n",
       "      <td>95</td>\n",
       "      <td>94</td>\n",
       "      <td>100</td>\n",
       "      <td>93</td>\n",
       "      <td>Y</td>\n",
       "      <td>B</td>\n",
       "      <td>S</td>\n",
       "      <td>0</td>\n",
       "      <td>1</td>\n",
       "    </tr>\n",
       "  </tbody>\n",
       "</table>\n",
       "</div>"
      ],
      "text/plain": [
       "       ID class  gender  race   GPA  Algebra  Calculus1  Calculus2  \\\n",
       "104  1245     A    male     1 93.71       93         97         99   \n",
       "68   1209     A  female     1 93.06       82         90         93   \n",
       "75   1216     A  female     1 91.90       95         86         96   \n",
       "96   1237     A    male     2 91.74       94        100         96   \n",
       "93   1234     A  female     1 91.61       93         82         95   \n",
       "\n",
       "     Statistics  Probability  Measure  Functional_analysis from1 from2 from3  \\\n",
       "104         100           97       90                   90     K     B     A   \n",
       "68           91           93       99                   94     M     B     S   \n",
       "75           92           95       90                   95     Z     B     A   \n",
       "96           97           95       94                   93     C     B     S   \n",
       "93           95           94      100                   93     Y     B     S   \n",
       "\n",
       "     from4  y  \n",
       "104      0  2  \n",
       "68       0  0  \n",
       "75       2  1  \n",
       "96       0  2  \n",
       "93       0  1  "
      ]
     },
     "execution_count": 12,
     "metadata": {},
     "output_type": "execute_result"
    }
   ],
   "source": [
    "df.sort_values(by = [\"class\", \"GPA\"], ascending = [True, False]).head()"
   ]
  },
  {
   "cell_type": "code",
   "execution_count": 13,
   "id": "0898935d-4782-4872-894e-d5f773864198",
   "metadata": {},
   "outputs": [
    {
     "data": {
      "text/plain": [
       "ID                     1245\n",
       "class                     B\n",
       "gender                 male\n",
       "race                      7\n",
       "GPA                   93.71\n",
       "Algebra                  98\n",
       "Calculus1               100\n",
       "Calculus2                99\n",
       "Statistics              100\n",
       "Probability              97\n",
       "Measure                 100\n",
       "Functional_analysis     100\n",
       "from1                     Z\n",
       "from2                     B\n",
       "from3                     S\n",
       "from4                     3\n",
       "y                         2\n",
       "dtype: object"
      ]
     },
     "execution_count": 13,
     "metadata": {},
     "output_type": "execute_result"
    }
   ],
   "source": [
    "df.apply(np.max)"
   ]
  },
  {
   "cell_type": "code",
   "execution_count": 14,
   "id": "e9433597-6286-4151-bebc-05d39aec0c85",
   "metadata": {},
   "outputs": [
    {
     "name": "stdout",
     "output_type": "stream",
     "text": [
      "y = 71.4%\n"
     ]
    }
   ],
   "source": [
    "print(\"y =\", '{:.1%}'.format(df[\"y\"].mean()))"
   ]
  },
  {
   "cell_type": "code",
   "execution_count": 15,
   "id": "d97f9ae7-c93a-45be-91ea-323b1bb31a8b",
   "metadata": {},
   "outputs": [
    {
     "data": {
      "text/plain": [
       "ID                    1205.36\n",
       "race                     1.44\n",
       "GPA                     86.15\n",
       "Algebra                 82.08\n",
       "Calculus1               75.40\n",
       "Calculus2               85.72\n",
       "Statistics              88.52\n",
       "Probability             87.96\n",
       "Measure                 86.36\n",
       "Functional_analysis     82.12\n",
       "from4                    0.56\n",
       "y                        1.00\n",
       "dtype: float64"
      ]
     },
     "execution_count": 15,
     "metadata": {},
     "output_type": "execute_result"
    }
   ],
   "source": [
    "df[df[\"y\"] == 1].mean()"
   ]
  },
  {
   "cell_type": "code",
   "execution_count": 21,
   "id": "4012d008-5a2f-4c10-91d9-3eb60461354b",
   "metadata": {},
   "outputs": [
    {
     "name": "stdout",
     "output_type": "stream",
     "text": [
      "Average GPA of females = 81.5 percent\n"
     ]
    }
   ],
   "source": [
    "print(\"Average GPA of females =\",df[(df[\"y\"] == 1) & (df[\"gender\"] == \"female\")][\"Algebra\"].mean(), \"percent\")"
   ]
  },
  {
   "cell_type": "code",
   "execution_count": 22,
   "id": "991af0d3-bfd5-43ee-a947-0f945cb2b7d4",
   "metadata": {},
   "outputs": [
    {
     "data": {
      "text/html": [
       "<div>\n",
       "<style scoped>\n",
       "    .dataframe tbody tr th:only-of-type {\n",
       "        vertical-align: middle;\n",
       "    }\n",
       "\n",
       "    .dataframe tbody tr th {\n",
       "        vertical-align: top;\n",
       "    }\n",
       "\n",
       "    .dataframe thead th {\n",
       "        text-align: right;\n",
       "    }\n",
       "</style>\n",
       "<table border=\"1\" class=\"dataframe\">\n",
       "  <thead>\n",
       "    <tr style=\"text-align: right;\">\n",
       "      <th></th>\n",
       "      <th>ID</th>\n",
       "      <th>class</th>\n",
       "      <th>gender</th>\n",
       "      <th>race</th>\n",
       "      <th>GPA</th>\n",
       "      <th>Algebra</th>\n",
       "      <th>Calculus1</th>\n",
       "      <th>Calculus2</th>\n",
       "      <th>Statistics</th>\n",
       "      <th>Probability</th>\n",
       "      <th>Measure</th>\n",
       "      <th>Functional_analysis</th>\n",
       "      <th>from1</th>\n",
       "      <th>from2</th>\n",
       "      <th>from3</th>\n",
       "      <th>from4</th>\n",
       "      <th>y</th>\n",
       "    </tr>\n",
       "  </thead>\n",
       "  <tbody>\n",
       "    <tr>\n",
       "      <th>104</th>\n",
       "      <td>1245</td>\n",
       "      <td>A</td>\n",
       "      <td>male</td>\n",
       "      <td>1</td>\n",
       "      <td>93.71</td>\n",
       "      <td>93</td>\n",
       "      <td>97</td>\n",
       "      <td>99</td>\n",
       "      <td>100</td>\n",
       "      <td>97</td>\n",
       "      <td>90</td>\n",
       "      <td>90</td>\n",
       "      <td>K</td>\n",
       "      <td>B</td>\n",
       "      <td>A</td>\n",
       "      <td>0</td>\n",
       "      <td>2</td>\n",
       "    </tr>\n",
       "  </tbody>\n",
       "</table>\n",
       "</div>"
      ],
      "text/plain": [
       "       ID class gender  race   GPA  Algebra  Calculus1  Calculus2  Statistics  \\\n",
       "104  1245     A   male     1 93.71       93         97         99         100   \n",
       "\n",
       "     Probability  Measure  Functional_analysis from1 from2 from3  from4  y  \n",
       "104           97       90                   90     K     B     A      0  2  "
      ]
     },
     "execution_count": 22,
     "metadata": {},
     "output_type": "execute_result"
    }
   ],
   "source": [
    "df[-1:]"
   ]
  },
  {
   "cell_type": "code",
   "execution_count": 23,
   "id": "c5a8a4f7-fc62-4e3e-9f5c-d43f6208d2a1",
   "metadata": {},
   "outputs": [
    {
     "data": {
      "text/html": [
       "<div>\n",
       "<style scoped>\n",
       "    .dataframe tbody tr th:only-of-type {\n",
       "        vertical-align: middle;\n",
       "    }\n",
       "\n",
       "    .dataframe tbody tr th {\n",
       "        vertical-align: top;\n",
       "    }\n",
       "\n",
       "    .dataframe thead th {\n",
       "        text-align: right;\n",
       "    }\n",
       "</style>\n",
       "<table border=\"1\" class=\"dataframe\">\n",
       "  <thead>\n",
       "    <tr style=\"text-align: right;\">\n",
       "      <th>gender</th>\n",
       "      <th>female</th>\n",
       "      <th>male</th>\n",
       "    </tr>\n",
       "    <tr>\n",
       "      <th>y</th>\n",
       "      <th></th>\n",
       "      <th></th>\n",
       "    </tr>\n",
       "  </thead>\n",
       "  <tbody>\n",
       "    <tr>\n",
       "      <th>0</th>\n",
       "      <td>36</td>\n",
       "      <td>19</td>\n",
       "    </tr>\n",
       "    <tr>\n",
       "      <th>1</th>\n",
       "      <td>20</td>\n",
       "      <td>5</td>\n",
       "    </tr>\n",
       "    <tr>\n",
       "      <th>2</th>\n",
       "      <td>12</td>\n",
       "      <td>13</td>\n",
       "    </tr>\n",
       "  </tbody>\n",
       "</table>\n",
       "</div>"
      ],
      "text/plain": [
       "gender  female  male\n",
       "y                   \n",
       "0           36    19\n",
       "1           20     5\n",
       "2           12    13"
      ]
     },
     "execution_count": 23,
     "metadata": {},
     "output_type": "execute_result"
    }
   ],
   "source": [
    "pd.crosstab(df[\"y\"], df[\"gender\"])"
   ]
  },
  {
   "cell_type": "code",
   "execution_count": 24,
   "id": "fbfd04d3-0cc8-4018-88b9-3ea5d55e8a80",
   "metadata": {},
   "outputs": [
    {
     "data": {
      "text/html": [
       "<div>\n",
       "<style scoped>\n",
       "    .dataframe tbody tr th:only-of-type {\n",
       "        vertical-align: middle;\n",
       "    }\n",
       "\n",
       "    .dataframe tbody tr th {\n",
       "        vertical-align: top;\n",
       "    }\n",
       "\n",
       "    .dataframe thead th {\n",
       "        text-align: right;\n",
       "    }\n",
       "</style>\n",
       "<table border=\"1\" class=\"dataframe\">\n",
       "  <thead>\n",
       "    <tr style=\"text-align: right;\">\n",
       "      <th>gender</th>\n",
       "      <th>female</th>\n",
       "      <th>male</th>\n",
       "    </tr>\n",
       "    <tr>\n",
       "      <th>y</th>\n",
       "      <th></th>\n",
       "      <th></th>\n",
       "    </tr>\n",
       "  </thead>\n",
       "  <tbody>\n",
       "    <tr>\n",
       "      <th>0</th>\n",
       "      <td>0.65</td>\n",
       "      <td>0.35</td>\n",
       "    </tr>\n",
       "    <tr>\n",
       "      <th>1</th>\n",
       "      <td>0.80</td>\n",
       "      <td>0.20</td>\n",
       "    </tr>\n",
       "    <tr>\n",
       "      <th>2</th>\n",
       "      <td>0.48</td>\n",
       "      <td>0.52</td>\n",
       "    </tr>\n",
       "  </tbody>\n",
       "</table>\n",
       "</div>"
      ],
      "text/plain": [
       "gender  female  male\n",
       "y                   \n",
       "0         0.65  0.35\n",
       "1         0.80  0.20\n",
       "2         0.48  0.52"
      ]
     },
     "execution_count": 24,
     "metadata": {},
     "output_type": "execute_result"
    }
   ],
   "source": [
    "pd.crosstab(df[\"y\"], df[\"gender\"],\n",
    "            normalize = 'index')"
   ]
  },
  {
   "cell_type": "code",
   "execution_count": 25,
   "id": "1426b485-e2a2-44ca-b631-7559405d3748",
   "metadata": {},
   "outputs": [
    {
     "data": {
      "text/html": [
       "<div>\n",
       "<style scoped>\n",
       "    .dataframe tbody tr th:only-of-type {\n",
       "        vertical-align: middle;\n",
       "    }\n",
       "\n",
       "    .dataframe tbody tr th {\n",
       "        vertical-align: top;\n",
       "    }\n",
       "\n",
       "    .dataframe thead th {\n",
       "        text-align: right;\n",
       "    }\n",
       "</style>\n",
       "<table border=\"1\" class=\"dataframe\">\n",
       "  <thead>\n",
       "    <tr style=\"text-align: right;\">\n",
       "      <th></th>\n",
       "    </tr>\n",
       "    <tr>\n",
       "      <th>GPA</th>\n",
       "    </tr>\n",
       "  </thead>\n",
       "  <tbody>\n",
       "    <tr>\n",
       "      <th>63.49</th>\n",
       "    </tr>\n",
       "    <tr>\n",
       "      <th>64.75</th>\n",
       "    </tr>\n",
       "    <tr>\n",
       "      <th>65.04</th>\n",
       "    </tr>\n",
       "    <tr>\n",
       "      <th>70.11</th>\n",
       "    </tr>\n",
       "    <tr>\n",
       "      <th>71.22</th>\n",
       "    </tr>\n",
       "    <tr>\n",
       "      <th>72.89</th>\n",
       "    </tr>\n",
       "    <tr>\n",
       "      <th>73.47</th>\n",
       "    </tr>\n",
       "    <tr>\n",
       "      <th>74.11</th>\n",
       "    </tr>\n",
       "    <tr>\n",
       "      <th>74.17</th>\n",
       "    </tr>\n",
       "    <tr>\n",
       "      <th>74.43</th>\n",
       "    </tr>\n",
       "  </tbody>\n",
       "</table>\n",
       "</div>"
      ],
      "text/plain": [
       "Empty DataFrame\n",
       "Columns: []\n",
       "Index: [63.49, 64.75, 65.04, 70.11, 71.22, 72.89, 73.47, 74.11, 74.17, 74.43]"
      ]
     },
     "execution_count": 25,
     "metadata": {},
     "output_type": "execute_result"
    }
   ],
   "source": [
    "df.pivot_table(\n",
    "    [\"gender\", \"class\"],\n",
    "    [\"GPA\"],\n",
    "    aggfunc = \"mean\",\n",
    ").head(10)"
   ]
  },
  {
   "cell_type": "code",
   "execution_count": 26,
   "id": "cd9ec9dc-2679-4878-8679-f34d61f09972",
   "metadata": {},
   "outputs": [
    {
     "data": {
      "image/png": "[encoded data removed]",
      "text/plain": [
       "<Figure size 1500x1500 with 1 Axes>"
      ]
     },
     "metadata": {},
     "output_type": "display_data"
    }
   ],
   "source": [
    "pd.plotting.scatter_matrix(\n",
    "    df[[\"gender\", \"class\", \"GPA\"]],\n",
    "    figsize = (15, 15),\n",
    "    diagonal = \"kde\")\n",
    "plt.show()"
   ]
  },
  {
   "cell_type": "code",
   "execution_count": 27,
   "id": "457e7aef-f79e-4a46-9710-b962d8a37c1e",
   "metadata": {},
   "outputs": [
    {
     "data": {
      "text/plain": [
       "<AxesSubplot:>"
      ]
     },
     "execution_count": 27,
     "metadata": {},
     "output_type": "execute_result"
    },
    {
     "data": {
      "image/png": "[encoded data removed]",
      "text/plain": [
       "<Figure size 800x600 with 1 Axes>"
      ]
     },
     "metadata": {},
     "output_type": "display_data"
    }
   ],
   "source": [
    "df[\"gender\"].hist()"
   ]
  },
  {
   "cell_type": "code",
   "execution_count": 28,
   "id": "771e166c-47ba-4c28-8582-cac6a9359fdd",
   "metadata": {},
   "outputs": [
    {
     "data": {
      "image/png": "[encoded data removed]",
      "text/plain": [
       "<Figure size 1500x1000 with 12 Axes>"
      ]
     },
     "metadata": {},
     "output_type": "display_data"
    }
   ],
   "source": [
    "df.hist(color = \"k\",\n",
    "        bins = 30,\n",
    "        figsize = (15, 10))\n",
    "plt.show()"
   ]
  },
  {
   "cell_type": "code",
   "execution_count": 29,
   "id": "4aa684ca-5b05-4440-81ef-4038f96182d2",
   "metadata": {},
   "outputs": [
    {
     "data": {
      "image/png": "[encoded data removed]",
      "text/plain": [
       "<Figure size 800x600 with 1 Axes>"
      ]
     },
     "metadata": {},
     "output_type": "display_data"
    }
   ],
   "source": [
    "df.boxplot(column = \"GPA\",\n",
    "           by = \"gender\")\n",
    "plt.show()"
   ]
  },
  {
   "cell_type": "code",
   "execution_count": 30,
   "id": "62c3e283-72e4-4d26-94be-2a0a1a0b2565",
   "metadata": {},
   "outputs": [
    {
     "data": {
      "image/png": "[encoded data removed]",
      "text/plain": [
       "<Figure size 2000x2000 with 1 Axes>"
      ]
     },
     "metadata": {},
     "output_type": "display_data"
    }
   ],
   "source": [
    "df.boxplot(column = \"GPA\",\n",
    "           by = [\"gender\", \"class\"],\n",
    "           figsize = (20, 20))\n",
    "plt.show()"
   ]
  }
 ],
 "metadata": {
  "kernelspec": {
   "display_name": "Python",
   "language": "python",
   "name": "conda-env-python-py"
  },
  "language_info": {
   "codemirror_mode": {
    "name": "ipython",
    "version": 3
   },
   "file_extension": ".py",
   "mimetype": "text/x-python",
   "name": "python",
   "nbconvert_exporter": "python",
   "pygments_lexer": "ipython3",
   "version": "3.7.12"
  }
 },
 "nbformat": 4,
 "nbformat_minor": 5
}
